{
 "cells": [
  {
   "cell_type": "code",
   "execution_count": 10,
   "metadata": {},
   "outputs": [
    {
     "data": {
      "text/html": [
       "<div>\n",
       "<style scoped>\n",
       "    .dataframe tbody tr th:only-of-type {\n",
       "        vertical-align: middle;\n",
       "    }\n",
       "\n",
       "    .dataframe tbody tr th {\n",
       "        vertical-align: top;\n",
       "    }\n",
       "\n",
       "    .dataframe thead th {\n",
       "        text-align: right;\n",
       "    }\n",
       "</style>\n",
       "<table border=\"1\" class=\"dataframe\">\n",
       "  <thead>\n",
       "    <tr style=\"text-align: right;\">\n",
       "      <th></th>\n",
       "      <th>RowNumber</th>\n",
       "      <th>CustomerId</th>\n",
       "      <th>Surname</th>\n",
       "      <th>CreditScore</th>\n",
       "      <th>Geography</th>\n",
       "      <th>Gender</th>\n",
       "      <th>Age</th>\n",
       "      <th>Tenure</th>\n",
       "      <th>Balance</th>\n",
       "      <th>NumOfProducts</th>\n",
       "      <th>HasCrCard</th>\n",
       "      <th>IsActiveMember</th>\n",
       "      <th>EstimatedSalary</th>\n",
       "      <th>Exited</th>\n",
       "    </tr>\n",
       "  </thead>\n",
       "  <tbody>\n",
       "    <tr>\n",
       "      <th>0</th>\n",
       "      <td>1</td>\n",
       "      <td>15634602</td>\n",
       "      <td>Hargrave</td>\n",
       "      <td>619</td>\n",
       "      <td>France</td>\n",
       "      <td>Female</td>\n",
       "      <td>42</td>\n",
       "      <td>2</td>\n",
       "      <td>0.00</td>\n",
       "      <td>1</td>\n",
       "      <td>1</td>\n",
       "      <td>1</td>\n",
       "      <td>101348.88</td>\n",
       "      <td>1</td>\n",
       "    </tr>\n",
       "    <tr>\n",
       "      <th>1</th>\n",
       "      <td>2</td>\n",
       "      <td>15647311</td>\n",
       "      <td>Hill</td>\n",
       "      <td>608</td>\n",
       "      <td>Spain</td>\n",
       "      <td>Female</td>\n",
       "      <td>41</td>\n",
       "      <td>1</td>\n",
       "      <td>83807.86</td>\n",
       "      <td>1</td>\n",
       "      <td>0</td>\n",
       "      <td>1</td>\n",
       "      <td>112542.58</td>\n",
       "      <td>0</td>\n",
       "    </tr>\n",
       "    <tr>\n",
       "      <th>2</th>\n",
       "      <td>3</td>\n",
       "      <td>15619304</td>\n",
       "      <td>Onio</td>\n",
       "      <td>502</td>\n",
       "      <td>France</td>\n",
       "      <td>Female</td>\n",
       "      <td>42</td>\n",
       "      <td>8</td>\n",
       "      <td>159660.80</td>\n",
       "      <td>3</td>\n",
       "      <td>1</td>\n",
       "      <td>0</td>\n",
       "      <td>113931.57</td>\n",
       "      <td>1</td>\n",
       "    </tr>\n",
       "    <tr>\n",
       "      <th>3</th>\n",
       "      <td>4</td>\n",
       "      <td>15701354</td>\n",
       "      <td>Boni</td>\n",
       "      <td>699</td>\n",
       "      <td>France</td>\n",
       "      <td>Female</td>\n",
       "      <td>39</td>\n",
       "      <td>1</td>\n",
       "      <td>0.00</td>\n",
       "      <td>2</td>\n",
       "      <td>0</td>\n",
       "      <td>0</td>\n",
       "      <td>93826.63</td>\n",
       "      <td>0</td>\n",
       "    </tr>\n",
       "    <tr>\n",
       "      <th>4</th>\n",
       "      <td>5</td>\n",
       "      <td>15737888</td>\n",
       "      <td>Mitchell</td>\n",
       "      <td>850</td>\n",
       "      <td>Spain</td>\n",
       "      <td>Female</td>\n",
       "      <td>43</td>\n",
       "      <td>2</td>\n",
       "      <td>125510.82</td>\n",
       "      <td>1</td>\n",
       "      <td>1</td>\n",
       "      <td>1</td>\n",
       "      <td>79084.10</td>\n",
       "      <td>0</td>\n",
       "    </tr>\n",
       "  </tbody>\n",
       "</table>\n",
       "</div>"
      ],
      "text/plain": [
       "   RowNumber  CustomerId   Surname  CreditScore Geography  Gender  Age  \\\n",
       "0          1    15634602  Hargrave          619    France  Female   42   \n",
       "1          2    15647311      Hill          608     Spain  Female   41   \n",
       "2          3    15619304      Onio          502    France  Female   42   \n",
       "3          4    15701354      Boni          699    France  Female   39   \n",
       "4          5    15737888  Mitchell          850     Spain  Female   43   \n",
       "\n",
       "   Tenure    Balance  NumOfProducts  HasCrCard  IsActiveMember  \\\n",
       "0       2       0.00              1          1               1   \n",
       "1       1   83807.86              1          0               1   \n",
       "2       8  159660.80              3          1               0   \n",
       "3       1       0.00              2          0               0   \n",
       "4       2  125510.82              1          1               1   \n",
       "\n",
       "   EstimatedSalary  Exited  \n",
       "0        101348.88       1  \n",
       "1        112542.58       0  \n",
       "2        113931.57       1  \n",
       "3         93826.63       0  \n",
       "4         79084.10       0  "
      ]
     },
     "execution_count": 10,
     "metadata": {},
     "output_type": "execute_result"
    }
   ],
   "source": [
    "import pandas as pd \n",
    "import numpy as np\n",
    "import seaborn as sns\n",
    "import matplotlib.pyplot as plt\n",
    "plt.style.use('default')\n",
    "import plotly.express as px\n",
    "churn_data = pd.read_csv(r'C:\\Users\\User\\Desktop\\p2\\git\\my_works\\data\\база\\churn.csv')\n",
    "churn_data.head()\n"
   ]
  },
  {
   "attachments": {},
   "cell_type": "markdown",
   "metadata": {},
   "source": [
    "#9.1 Каково соотношение ушедших и лояльных клиентов? Покажите это на графике и дайте комментарий по соотношению.\n",
    "#9.2 Постройте график, показывающий распределение баланса пользователей, у которых на счету больше 2 500 долларов. Опишите распределение и сделайте выводы."
   ]
  },
  {
   "cell_type": "code",
   "execution_count": 11,
   "metadata": {},
   "outputs": [
    {
     "name": "stderr",
     "output_type": "stream",
     "text": [
      "C:\\Temp\\ipykernel_8564\\2395975994.py:7: UserWarning:\n",
      "\n",
      "Matplotlib is currently using module://matplotlib_inline.backend_inline, which is a non-GUI backend, so cannot show the figure.\n",
      "\n",
      "No artists with labels found to put in legend.  Note that artists whose label start with an underscore are ignored when legend() is called with no argument.\n"
     ]
    },
    {
     "data": {
      "image/png": "[encoded data removed]",
      "text/plain": [
       "<Figure size 500x500 with 1 Axes>"
      ]
     },
     "metadata": {},
     "output_type": "display_data"
    },
    {
     "data": {
      "image/png": "[encoded data removed]",
      "text/plain": [
       "<Figure size 1000x300 with 1 Axes>"
      ]
     },
     "metadata": {},
     "output_type": "display_data"
    }
   ],
   "source": [
    "churn_data = churn_data.drop(['RowNumber'], axis=1)\n",
    "Exited_churn_data = churn_data['Exited'].value_counts()\n",
    "fig= plt.figure(figsize=(5,5))\n",
    "axes= fig.add_axes([0,0,1,1])\n",
    "axes.pie(Exited_churn_data, labels=['лояльный клиент', 'ушедший клиент'], autopct='%.1f%%', explode=[0.2,0]); \n",
    "axes.set_title('9.1 Соотношение ушедших и лояльных клиентов')\n",
    "fig.show()\n",
    "#Из шаровой диаграммы видно соотношение в процентах: 1 — ушедших клиентов, 0 — лояльных клиент. Преобладающую долю состаляют лояльные клиенты, которые в 4 раза больше.\n",
    "\n",
    "fig = plt.figure(figsize = (10,3))\n",
    "boxplot = fig.add_axes([0, 0, 1, 1])\n",
    "boxplot = sns.boxplot(data=churn_data[churn_data['Balance']>2500], x='Balance', orient='h', width=0.2)\n",
    "boxplot.set_title('9.2 Распределение баланса клиента')\n",
    "boxplot.set_xlabel('Баланс')\n",
    "boxplot.xaxis.set_tick_params()\n",
    "boxplot.grid()\n",
    "boxplot.legend();\n",
    "#"
   ]
  },
  {
   "attachments": {},
   "cell_type": "markdown",
   "metadata": {},
   "source": [
    "#9.3 Посмотрите на распределение баланса клиента в разрезе признака оттока. Как различаются суммы на накопительном счёте ушедших и лояльных клиентов? Подумайте и напишите, с чем это может быть связано, что может не устраивать ушедших клиентов в банке."
   ]
  },
  {
   "cell_type": "code",
   "execution_count": 12,
   "metadata": {},
   "outputs": [
    {
     "data": {
      "image/png": "[encoded data removed]",
      "text/plain": [
       "<Figure size 1000x300 with 1 Axes>"
      ]
     },
     "metadata": {},
     "output_type": "display_data"
    }
   ],
   "source": [
    "\n",
    "fig= plt.figure(figsize = (10,3))\n",
    "barplot=sns.barplot(data= churn_data, y='Exited', x = 'Balance', orient='h', width=0.7)\n",
    "barplot.set_title('9.3 Распределение баланса клиента в разрезе признака оттока')\n",
    "barplot.set_xlabel('Баланс')\n",
    "barplot.set_ylabel('1-ушедшийб 2-активный')\n",
    "barplot.grid()\n",
    "#"
   ]
  },
  {
   "attachments": {},
   "cell_type": "markdown",
   "metadata": {},
   "source": [
    "#9.4 Посмотрите на распределение возраста в разрезе признака оттока. В какой группе больше потенциальных выбросов? На какую возрастную категорию клиентов стоит обратить внимание банку?"
   ]
  },
  {
   "cell_type": "code",
   "execution_count": 13,
   "metadata": {},
   "outputs": [
    {
     "data": {
      "image/png": "[encoded data removed]",
      "text/plain": [
       "<Figure size 1000x300 with 1 Axes>"
      ]
     },
     "metadata": {},
     "output_type": "display_data"
    }
   ],
   "source": [
    "fig= plt.figure(figsize = (10,3))\n",
    "#boxplot=sns.barplot(data= churn_data, y='Exited', x = 'Age', orient='h', width=0.7)\n",
    "#box.set_title('9.4 Распределение возраста в разрезе признака оттока')\n",
    "#boxplot.set_xlabel('Возвраст')\n",
    "#boxplot.set_ylabel('1-ушедшийб 2-активный')\n",
    "#boxplot.grid()\n",
    "boxplot=sns.boxplot(data= churn_data, y='Exited', x = 'Age', orient='h', width=0.7)\n",
    "boxplot.set_title('9.4 Распределение возраста в разрезе признака оттока')\n",
    "boxplot.set_xlabel('Возвраст')\n",
    "boxplot.set_ylabel('1-ушедшийб 2-активный')\n",
    "boxplot.grid()\n",
    "#"
   ]
  },
  {
   "attachments": {},
   "cell_type": "markdown",
   "metadata": {},
   "source": [
    "#9.5 Постройте график, который показывает взаимосвязь кредитного рейтинга клиента и его предполагаемой зарплаты."
   ]
  },
  {
   "cell_type": "code",
   "execution_count": 14,
   "metadata": {},
   "outputs": [
    {
     "data": {
      "application/vnd.plotly.v1+json": {
       "config": {
        "plotlyServerURL": "https://plot.ly"
       },
       "data": [
        {
         "hovertemplate": "CreditScore=%{x}<br>EstimatedSalary=%{y}<br>Exited=%{marker.color}<extra></extra>",
         "legendgroup": "",
         "marker": {
          "color": [
           1,
           1,
           1,
           1,
           1,
           1,
           1,
           1,
           1,
           1,
           1,
           1,
           1,
           1,
           1,
           1,
           0,
           1,
           1,
           0,
           1,
           0,
           1,
           0,
           0,
           0,
           0,
           1,
           0,
           1,
           0,
           0,
           0,
           1,
           0,
           0,
           1,
           0,
           1,
           0,
           1,
           0,
           0,
           1,
           0,
           0,
           0,
           1,
           0,
           0,
           1,
           0,
           1,
           0,
           1,
           0,
           0,
           1,
           0,
           1,
           0,
           1,
           0,
           1,
           0,
           1,
           0,
           1,
           0,
           0,
           0,
           0,
           1,
           0,
           1,
           0,
           1,
           0,
           1,
           0,
           1,
           0,
           0,
           0,
           0,
           0,
           0,
           1,
           0,
           1,
           0,
           0,
           1,
           0,
           1,
           0,
           0,
           1,
           0,
           1,
           0,
           1,
           0,
           0,
           0,
           0,
           1,
           0,
           1,
           0,
           1,
           0,
           1,
           0,
           1,
           0,
           0,
           0,
           0,
           1,
           0,
           1,
           0,
           1,
           0,
           1,
           0,
           1,
           0,
           1,
           0,
           1,
           0,
           1,
           0,
           1,
           0,
           1,
           0,
           1,
           0,
           1,
           0,
           1,
           0,
           1,
           0,
           1,
           0,
           0,
           1,
           0,
           1,
           0,
           1,
           0,
           1,
           0,
           1,
           0,
           1,
           0,
           1,
           0,
           1,
           0,
           1,
           0,
           1,
           0,
           1,
           0,
           1,
           0,
           1,
           0,
           1,
           0,
           0,
           1,
           0,
           1,
           0,
           1,
           0,
           1,
           0,
           1,
           0,
           1,
           0,
           1,
           0,
           1,
           0,
           1,
           0,
           1,
           0,
           1,
           0,
           1,
           0,
           1,
           0,
           1,
           0,
           1,
           0,
           1,
           0,
           1,
           0,
           1,
           0,
           1,
           0,
           1,
           0,
           1,
           0,
           1,
           0,
           1,
           0,
           1,
           0,
           1,
           0,
           1,
           0,
           1,
           0,
           1,
           0,
           1,
           0,
           1,
           0,
           1,
           0,
           1,
           0,
           1,
           0,
           1,
           0,
           1,
           0,
           1,
           0,
           1,
           0,
           1,
           0,
           1,
           0,
           1,
           0,
           1,
           0,
           1,
           0,
           1,
           0,
           1,
           0,
           1,
           0,
           1,
           0,
           1,
           0,
           1,
           0,
           1,
           0,
           1,
           0,
           1,
           0,
           1,
           0,
           1,
           0,
           1,
           0,
           1,
           0,
           1,
           0,
           1,
           0,
           1,
           0,
           1,
           0,
           1,
           0,
           1,
           0,
           1,
           0,
           1,
           0,
           1,
           0,
           1,
           0,
           1,
           0,
           1,
           0,
           1,
           0,
           1,
           0,
           1,
           0,
           1,
           0,
           1,
           0,
           1,
           0,
           1,
           0,
           1,
           0,
           1,
           0,
           1,
           0,
           1,
           0,
           1,
           0,
           1,
           0,
           1,
           0,
           1,
           0,
           1,
           0,
           1,
           0,
           1,
           0,
           1,
           0,
           1,
           0,
           1,
           0,
           1,
           0,
           1,
           0,
           1,
           0,
           1,
           0,
           1,
           0,
           1,
           0,
           1,
           0,
           1,
           0,
           1,
           0,
           1,
           0,
           1,
           0,
           1,
           0,
           1,
           0,
           1,
           0,
           1,
           0,
           1,
           0,
           1,
           0,
           1,
           0,
           1,
           0,
           1,
           0,
           1,
           0,
           1,
           0,
           1,
           0,
           1,
           0,
           1,
           0,
           1,
           0,
           1,
           0,
           1,
           0,
           1,
           0,
           1,
           0,
           1,
           0,
           1,
           0,
           1,
           0,
           1,
           0,
           1,
           0,
           1,
           0,
           1,
           0,
           1,
           0,
           1,
           0,
           1,
           0,
           1,
           0,
           1,
           0,
           1,
           0,
           1,
           0,
           1,
           0,
           1,
           0,
           1,
           0,
           1,
           0,
           1,
           0,
           1,
           0,
           1,
           0,
           1,
           0,
           1,
           0,
           1,
           0,
           1,
           0,
           1,
           0,
           1,
           0,
           1,
           0,
           1,
           0,
           1,
           0,
           1,
           0,
           1,
           0,
           1,
           0,
           1,
           0,
           1,
           0,
           1,
           0,
           1,
           0,
           1,
           0,
           1,
           0,
           1,
           0,
           1,
           0,
           1,
           0,
           1,
           0,
           1,
           0,
           1,
           0,
           1,
           0,
           1,
           0,
           1,
           0,
           1,
           0,
           1,
           0,
           1,
           0,
           1,
           0,
           1,
           0,
           1,
           0,
           1,
           0,
           1,
           0,
           1,
           0,
           1,
           0,
           1,
           0,
           1,
           0,
           1,
           0,
           1,
           0,
           1,
           0,
           1,
           0,
           1,
           0,
           1,
           0,
           1,
           0,
           1,
           0,
           1,
           0,
           1,
           0,
           1,
           0,
           1,
           0,
           1,
           0,
           1,
           0,
           1,
           0,
           1,
           0,
           1,
           0,
           1,
           0,
           1,
           0,
           1,
           0,
           1,
           0,
           1,
           0,
           1,
           0,
           1,
           0,
           1,
           0,
           1,
           0,
           1,
           0,
           1,
           0,
           1,
           0,
           1,
           0,
           1,
           0,
           1,
           0,
           1,
           0,
           1,
           0,
           1,
           0,
           1,
           0,
           1,
           0,
           1,
           0,
           1,
           0,
           1,
           0,
           1,
           0,
           1,
           0,
           1,
           0,
           1,
           0,
           1,
           0,
           1,
           0,
           1,
           0,
           1,
           0,
           1,
           0,
           1,
           0,
           1,
           0,
           1,
           0,
           1,
           0,
           1,
           0,
           1,
           0,
           1,
           0,
           1,
           0,
           1,
           0,
           1,
           0,
           1,
           0,
           1,
           0,
           1,
           0,
           1,
           0,
           1,
           0,
           1,
           0,
           1,
           0,
           1,
           0,
           1,
           0,
           1,
           0,
           1,
           0,
           1,
           0,
           1,
           0,
           1,
           0,
           1,
           0,
           1,
           0,
           1,
           0,
           1,
           0,
           0,
           1,
           0,
           1,
           0,
           1,
           0,
           1,
           0,
           1,
           0,
           1,
           0,
           1,
           0,
           1,
           0,
           1,
           0,
           1,
           0,
           1,
           0,
           1,
           0,
           1,
           0,
           1,
           0,
           1,
           0,
           1,
           0,
           1,
           0,
           1,
           0,
           1,
           0,
           1,
           0,
           1,
           0,
           1,
           0,
           1,
           0,
           1,
           0,
           0,
           1,
           0,
           1,
           0,
           1,
           0,
           1,
           0,
           1,
           0,
           1,
           0,
           1,
           0,
           1,
           0,
           1,
           0,
           1,
           0,
           1,
           0,
           1,
           0,
           1,
           0,
           1,
           0,
           1,
           0,
           1,
           0,
           0,
           1,
           0,
           1,
           0,
           1,
           0,
           1,
           0,
           1,
           0,
           1,
           0,
           1,
           0,
           1,
           0,
           0,
           1,
           0,
           1,
           0,
           1,
           0,
           0,
           1,
           0,
           1,
           0,
           1,
           0,
           1,
           0,
           1,
           0,
           1,
           0,
           1,
           0,
           1,
           0,
           1,
           0,
           1,
           0,
           1,
           0,
           1,
           0,
           0,
           1,
           0,
           1,
           0,
           0,
           1,
           0,
           1,
           0,
           1,
           0,
           1,
           0,
           1,
           0,
           1,
           0,
           0,
           1,
           0,
           1,
           0,
           1,
           0,
           1,
           0,
           1,
           0,
           0,
           1,
           0,
           1,
           0,
           1,
           0,
           1,
           0,
           0,
           1,
           0,
           1
          ],
          "coloraxis": "coloraxis",
          "symbol": "circle"
         },
         "mode": "markers",
         "name": "",
         "orientation": "v",
         "showlegend": false,
         "type": "scatter",
         "x": [
          350,
          351,
          358,
          359,
          363,
          365,
          367,
          373,
          376,
          382,
          383,
          386,
          395,
          399,
          401,
          404,
          405,
          405,
          407,
          408,
          408,
          410,
          410,
          411,
          412,
          413,
          414,
          414,
          415,
          415,
          416,
          417,
          418,
          418,
          419,
          420,
          420,
          421,
          421,
          422,
          423,
          424,
          425,
          425,
          426,
          427,
          428,
          428,
          429,
          430,
          430,
          431,
          431,
          432,
          432,
          433,
          434,
          434,
          435,
          435,
          436,
          436,
          437,
          437,
          438,
          438,
          439,
          439,
          440,
          441,
          442,
          443,
          443,
          444,
          444,
          445,
          445,
          446,
          446,
          447,
          447,
          448,
          449,
          450,
          451,
          452,
          453,
          453,
          454,
          454,
          455,
          456,
          456,
          457,
          457,
          458,
          459,
          459,
          460,
          460,
          461,
          461,
          462,
          463,
          464,
          465,
          465,
          466,
          466,
          467,
          467,
          468,
          468,
          469,
          469,
          470,
          471,
          472,
          473,
          473,
          474,
          474,
          475,
          475,
          476,
          476,
          477,
          477,
          478,
          478,
          479,
          479,
          480,
          480,
          481,
          481,
          482,
          482,
          483,
          483,
          484,
          484,
          485,
          485,
          486,
          486,
          487,
          487,
          488,
          489,
          489,
          490,
          490,
          491,
          491,
          492,
          492,
          493,
          493,
          494,
          494,
          495,
          495,
          496,
          496,
          497,
          497,
          498,
          498,
          499,
          499,
          500,
          500,
          501,
          501,
          502,
          502,
          503,
          504,
          504,
          505,
          505,
          506,
          506,
          507,
          507,
          508,
          508,
          509,
          509,
          510,
          510,
          511,
          511,
          512,
          512,
          513,
          513,
          514,
          514,
          515,
          515,
          516,
          516,
          517,
          517,
          518,
          518,
          519,
          519,
          520,
          520,
          521,
          521,
          522,
          522,
          523,
          523,
          524,
          524,
          525,
          525,
          526,
          526,
          527,
          527,
          528,
          528,
          529,
          529,
          530,
          530,
          531,
          531,
          532,
          532,
          533,
          533,
          534,
          534,
          535,
          535,
          536,
          536,
          537,
          537,
          538,
          538,
          539,
          539,
          540,
          540,
          541,
          541,
          542,
          542,
          543,
          543,
          544,
          544,
          545,
          545,
          546,
          546,
          547,
          547,
          548,
          548,
          549,
          549,
          550,
          550,
          551,
          551,
          552,
          552,
          553,
          553,
          554,
          554,
          555,
          555,
          556,
          556,
          557,
          557,
          558,
          558,
          559,
          559,
          560,
          560,
          561,
          561,
          562,
          562,
          563,
          563,
          564,
          564,
          565,
          565,
          566,
          566,
          567,
          567,
          568,
          568,
          569,
          569,
          570,
          570,
          571,
          571,
          572,
          572,
          573,
          573,
          574,
          574,
          575,
          575,
          576,
          576,
          577,
          577,
          578,
          578,
          579,
          579,
          580,
          580,
          581,
          581,
          582,
          582,
          583,
          583,
          584,
          584,
          585,
          585,
          586,
          586,
          587,
          587,
          588,
          588,
          589,
          589,
          590,
          590,
          591,
          591,
          592,
          592,
          593,
          593,
          594,
          594,
          595,
          595,
          596,
          596,
          597,
          597,
          598,
          598,
          599,
          599,
          600,
          600,
          601,
          601,
          602,
          602,
          603,
          603,
          604,
          604,
          605,
          605,
          606,
          606,
          607,
          607,
          608,
          608,
          609,
          609,
          610,
          610,
          611,
          611,
          612,
          612,
          613,
          613,
          614,
          614,
          615,
          615,
          616,
          616,
          617,
          617,
          618,
          618,
          619,
          619,
          620,
          620,
          621,
          621,
          622,
          622,
          623,
          623,
          624,
          624,
          625,
          625,
          626,
          626,
          627,
          627,
          628,
          628,
          629,
          629,
          630,
          630,
          631,
          631,
          632,
          632,
          633,
          633,
          634,
          634,
          635,
          635,
          636,
          636,
          637,
          637,
          638,
          638,
          639,
          639,
          640,
          640,
          641,
          641,
          642,
          642,
          643,
          643,
          644,
          644,
          645,
          645,
          646,
          646,
          647,
          647,
          648,
          648,
          649,
          649,
          650,
          650,
          651,
          651,
          652,
          652,
          653,
          653,
          654,
          654,
          655,
          655,
          656,
          656,
          657,
          657,
          658,
          658,
          659,
          659,
          660,
          660,
          661,
          661,
          662,
          662,
          663,
          663,
          664,
          664,
          665,
          665,
          666,
          666,
          667,
          667,
          668,
          668,
          669,
          669,
          670,
          670,
          671,
          671,
          672,
          672,
          673,
          673,
          674,
          674,
          675,
          675,
          676,
          676,
          677,
          677,
          678,
          678,
          679,
          679,
          680,
          680,
          681,
          681,
          682,
          682,
          683,
          683,
          684,
          684,
          685,
          685,
          686,
          686,
          687,
          687,
          688,
          688,
          689,
          689,
          690,
          690,
          691,
          691,
          692,
          692,
          693,
          693,
          694,
          694,
          695,
          695,
          696,
          696,
          697,
          697,
          698,
          698,
          699,
          699,
          700,
          700,
          701,
          701,
          702,
          702,
          703,
          703,
          704,
          704,
          705,
          705,
          706,
          706,
          707,
          707,
          708,
          708,
          709,
          709,
          710,
          710,
          711,
          711,
          712,
          712,
          713,
          713,
          714,
          714,
          715,
          715,
          716,
          716,
          717,
          717,
          718,
          718,
          719,
          719,
          720,
          720,
          721,
          721,
          722,
          722,
          723,
          723,
          724,
          724,
          725,
          725,
          726,
          726,
          727,
          727,
          728,
          728,
          729,
          729,
          730,
          730,
          731,
          731,
          732,
          732,
          733,
          733,
          734,
          734,
          735,
          735,
          736,
          736,
          737,
          737,
          738,
          738,
          739,
          739,
          740,
          740,
          741,
          741,
          742,
          742,
          743,
          743,
          744,
          744,
          745,
          745,
          746,
          746,
          747,
          747,
          748,
          748,
          749,
          749,
          750,
          750,
          751,
          751,
          752,
          752,
          753,
          753,
          754,
          754,
          755,
          755,
          756,
          756,
          757,
          757,
          758,
          758,
          759,
          760,
          760,
          761,
          761,
          762,
          762,
          763,
          763,
          764,
          764,
          765,
          765,
          766,
          766,
          767,
          767,
          768,
          768,
          769,
          769,
          770,
          770,
          771,
          771,
          772,
          772,
          773,
          773,
          774,
          774,
          775,
          775,
          776,
          776,
          777,
          777,
          778,
          778,
          779,
          779,
          780,
          780,
          781,
          781,
          782,
          782,
          783,
          783,
          784,
          785,
          785,
          786,
          786,
          787,
          787,
          788,
          788,
          789,
          789,
          790,
          790,
          791,
          791,
          792,
          792,
          793,
          793,
          794,
          794,
          795,
          795,
          796,
          796,
          797,
          797,
          798,
          798,
          799,
          799,
          800,
          800,
          801,
          802,
          802,
          803,
          803,
          804,
          804,
          805,
          805,
          806,
          806,
          807,
          807,
          808,
          808,
          809,
          809,
          810,
          811,
          811,
          812,
          812,
          813,
          813,
          814,
          815,
          815,
          816,
          816,
          817,
          817,
          818,
          818,
          819,
          819,
          820,
          820,
          821,
          821,
          822,
          822,
          823,
          823,
          824,
          824,
          825,
          825,
          826,
          826,
          827,
          828,
          828,
          829,
          829,
          830,
          831,
          831,
          832,
          832,
          833,
          833,
          834,
          834,
          835,
          835,
          836,
          836,
          837,
          838,
          838,
          839,
          839,
          840,
          840,
          841,
          841,
          842,
          842,
          843,
          844,
          844,
          845,
          845,
          846,
          846,
          847,
          847,
          848,
          849,
          849,
          850,
          850
         ],
         "xaxis": "x",
         "y": [
          145503.35,
          169621.69,
          141959.11,
          146955.71,
          100615.14,
          81537.85,
          168816.73,
          77786.37,
          138340.285,
          179540.73,
          137702.01,
          62514.65,
          17376.57,
          139994.68,
          175753.55,
          83715.66,
          72950.14,
          160810.85,
          49161.12,
          124874.23,
          188484.52,
          99778.105,
          66333.56,
          86156.2075,
          12510.53,
          75466.27,
          93844.82,
          77661.12,
          12710.95,
          178587.36,
          94854.14749999999,
          55003.79,
          88695.394,
          81014.5,
          134720.51,
          9904.63,
          147170.70500000002,
          54388.994999999995,
          89017.38,
          51959.02,
          118372.55,
          16250.61,
          170271.55666666667,
          136365,
          84553.87,
          66253.41166666667,
          56434.6,
          72876.43,
          77188.4275,
          67023.35666666667,
          160435.51333333334,
          112021.02750000001,
          37688.31,
          92103.95,
          76655.97,
          87032.75,
          61790.9,
          76953.24333333333,
          123461.27,
          78945.69499999999,
          35687.43,
          183540.22,
          116321.50600000001,
          148330.97,
          73910.415,
          121664.52500000001,
          114865.54666666668,
          198874.52,
          49826.68,
          174381.23,
          68343.08,
          60247.54750000001,
          78728.545,
          138594.7225,
          145831.675,
          113683.647,
          46607.705,
          143000.1125,
          128260.86,
          113612,
          115684.82500000001,
          88607.63,
          131303.935,
          117162.9925,
          120209.134,
          106051.604,
          91831.31333333334,
          133919.44999999998,
          146759.82333333333,
          154344,
          84099.915,
          118087.6725,
          140758.07,
          143235.93999999997,
          185750.02,
          89088.04714285713,
          102868.66,
          67313.06999999999,
          158146.05,
          123855.355,
          120894.41571428571,
          56767.67,
          103697.735,
          79615.2225,
          118445.12428571428,
          121390.46714285715,
          128098.225,
          101263.995,
          175343.66499999998,
          60932.365000000005,
          105066.985,
          126914.907,
          62256.87,
          120452.185,
          152278.92666666667,
          80771.01444444444,
          111372.0942857143,
          68006.08625,
          106074.81428571428,
          85937.52,
          113123.67142857143,
          145177.345,
          95032.64,
          94354.505,
          91046.7,
          126498.825,
          130011.68888888888,
          114573.785,
          133012.20500000002,
          63100.486666666664,
          95941.03583333333,
          57883.314,
          115218.39333333333,
          67231.08666666667,
          95860.4775,
          117609.94,
          75812.9825,
          87642.235,
          88234.58600000001,
          177753.945,
          107364.19444444444,
          93737.35500000001,
          102364.03818181818,
          116828.51,
          79651.20125,
          168034.83,
          106281.20818181819,
          26612.266666666663,
          99828.365,
          117048.03555555556,
          119520.44666666666,
          105987.12727272726,
          110327.1,
          105735.1075,
          78850.435,
          118460.75333333334,
          95007.96666666667,
          85721.698,
          163365.115,
          83382.30416666667,
          188426.13,
          97032.665,
          125619.5,
          119885.26777777777,
          65864.45,
          89447.52083333333,
          53820.07666666666,
          112407.60076923078,
          88806.18,
          96598.5475,
          97030.14000000001,
          131122.32666666666,
          101178.57500000001,
          98497.78222222223,
          81123.59,
          95259.43363636364,
          61901.619999999995,
          114411.5823076923,
          92095.83888888889,
          132305.93199999997,
          118160.06999999999,
          138321.42333333334,
          95204.31066666666,
          194421.12,
          96756.30866666666,
          125869.56666666667,
          94037.03,
          132468.76,
          98792.77500000001,
          71244.59,
          84984.15199999999,
          77946.69750000001,
          132623.30545454545,
          119540.98999999999,
          83266.122,
          69105.195,
          108106.36384615385,
          73473.6675,
          60733.31125,
          123799.43333333333,
          120523.55272727273,
          95094.196,
          101969.17217391304,
          134241.13142857142,
          70792.005,
          111166.96399999999,
          114714.61249999999,
          120047.58333333333,
          114534.89727272728,
          126135.10666666664,
          70794.51095238095,
          91586.8,
          77533.43857142857,
          87436.29400000001,
          113475.2175,
          174248.52,
          104297.17882352941,
          125145.5325,
          125545.41615384616,
          112852.04166666667,
          114518.93666666668,
          106257.8675,
          92740.31444444443,
          89264.1,
          107828.600625,
          95998.8,
          109763.4,
          118440.9475,
          77689.56521739131,
          116738.5157142857,
          107236.969375,
          141366.72333333336,
          78677.81764705882,
          119878.7075,
          75696.22625,
          135658.448,
          113694.79142857144,
          104188.08,
          90419.93571428572,
          58982.98,
          97046.85052631579,
          83577.776,
          74244.62363636364,
          79389.50333333333,
          102109.28349999999,
          93755.56125,
          93977.49375,
          82531.98,
          85738.32523809525,
          114047.225,
          96360.81285714285,
          152662.63333333333,
          90463.12384615386,
          199808.1,
          82433.6994117647,
          68334.53666666667,
          106163.22185185186,
          108005.435,
          95816.40263157894,
          101693.27500000001,
          119799.3705882353,
          99919.42571428571,
          102672.68090909091,
          92348.18428571428,
          84737.95714285714,
          82420.8325,
          85918.07352941176,
          144540.2175,
          92167.42222222223,
          70792.82333333333,
          126492.37041666667,
          87974.03857142858,
          100817.88533333334,
          102137.01833333333,
          79125.3375,
          130917.192,
          79729.52900000001,
          113590.94750000001,
          116565.78818181818,
          111231.41125,
          106032.87652173913,
          118483.92333333334,
          114205.73052631579,
          122676.435,
          96018.88277777778,
          132867.68333333332,
          131681.37421052632,
          91362.89,
          95785.0376,
          113625.47875000001,
          81814.369375,
          117379.73333333334,
          84436.28238095238,
          109455.515,
          90523.10086956523,
          33581.325,
          60446.20846153846,
          116890.69833333332,
          91889.66222222222,
          61272.85,
          104499.72578947368,
          151230.16,
          109559.96909090909,
          102359.3075,
          95135.47538461538,
          97222.23,
          90188.36647058824,
          91433.06666666667,
          121917.34666666668,
          87759.37625,
          100166.86,
          133977.306,
          104337.59916666667,
          79855.58,
          95136.35277777778,
          100760.088,
          102844.58692307692,
          155043.782,
          92576.84157894737,
          85981.53,
          93069.349,
          99686.085,
          89521.5338888889,
          117619.74333333333,
          115915.48166666667,
          111577.9,
          102181.35352941176,
          118477.394,
          91293.05066666666,
          75283.53,
          96103.56333333334,
          101177.08,
          96517.89814814815,
          118458.80727272727,
          86899.83,
          104282.23,
          73531.82655172414,
          93793.8025,
          109269.42028571428,
          114351.435,
          96878.83,
          104374.56,
          79164.1676923077,
          123567.8875,
          84113.0396,
          74592.90000000001,
          93175.5723076923,
          85053.70125,
          95816.26130434782,
          100480.10428571429,
          103109.43433333332,
          111708.84999999999,
          95287.1373076923,
          159456.998,
          87790.21375,
          49836.60999999999,
          94399.90212121212,
          57298.714,
          103978.03586206897,
          26939.4175,
          101740.55666666667,
          99371.95125,
          84681.09565217391,
          111995.70428571428,
          93239.17125,
          63293.44375,
          119706.13636363637,
          110091.8925,
          99318.09958333334,
          109738.782,
          86589.69074074074,
          86523.592,
          100793.2271875,
          68189.46875,
          103835.17777777778,
          127063.43428571429,
          96409.20347826088,
          138591.082,
          88278.76310344828,
          67691.396,
          100390.59212121212,
          90384.41500000001,
          112222.26903225806,
          100660.49666666666,
          111267.15548387096,
          108741.818,
          100570.3303125,
          108609.44727272727,
          104502.5264,
          121359.81400000001,
          110960.62857142858,
          141971.08125,
          106279.25033333334,
          100668.95999999999,
          123242.86000000002,
          99515.675,
          96681.63444444444,
          79426.06333333334,
          94504.6717857143,
          93198.97777777778,
          107020.06793103449,
          96397.55333333334,
          103170.89703703705,
          89739.313,
          100716.332,
          84059.14666666667,
          93398.90631578947,
          116600.11,
          97376.605625,
          100580.18583333334,
          85988.84413793104,
          54858.015,
          84698.75,
          119119.66625,
          98327.50142857143,
          110143.11875,
          102601.5125,
          80395.925,
          107973.986,
          74973.45,
          104355.179,
          118338.43461538461,
          91268.93549999999,
          91377.91625000001,
          122465.77888888889,
          96474.41625,
          106212.32625,
          87523.30090909092,
          93892.02571428572,
          81139.0088888889,
          97990.32333333333,
          71881.14625,
          110055.41896551724,
          103394.2425,
          104302.64575757575,
          84591.35,
          97611.04658536585,
          65626.2675,
          105366.6015625,
          88931.23625,
          112487.09242424242,
          107870.07,
          90043.82142857143,
          108367.1425,
          115022.6034375,
          95910.2757142857,
          90274.15958333334,
          102803.68100000001,
          104091.3336111111,
          84361.72,
          100237.1945,
          86237.96857142857,
          85793.7729032258,
          101121.9057142857,
          98804.95774193548,
          75386.52166666667,
          108727.9682142857,
          60179.6125,
          82229.515,
          114590.45090909091,
          86212.82029411766,
          100051.56454545454,
          96398.42588235294,
          101532.969,
          95199.56916666667,
          120610.45857142856,
          99020.76472222221,
          115616.74416666669,
          91191.29433333334,
          105468.25,
          91777.28034482758,
          109872.1825,
          113446.7290909091,
          85297.74882352941,
          121111.329,
          131459.95375,
          76327.47233333332,
          84625.98571428572,
          112953.60814814815,
          141971.44333333333,
          96937.39930232558,
          97153.72272727272,
          99511.35914285714,
          56159.9,
          75407.9972,
          122641.14142857143,
          95358.80655172415,
          129113.88,
          106188.82068965519,
          121526.79999999999,
          102812.56731707316,
          152728.14571428573,
          98304.13148148147,
          114537.36374999999,
          94614.79548387097,
          64234.583333333336,
          105854.55384615385,
          73449.95999999999,
          116846.8112,
          135482.38428571427,
          107964.2256,
          66998.7875,
          95531.75387096775,
          116354.56000000001,
          81911.93428571429,
          107004.64090909091,
          92898.60592592592,
          126080.91875000001,
          113135.99551724139,
          107543.3642857143,
          93786.6461904762,
          157465.18375,
          100612.71633333333,
          116677.0875,
          116504.69350000001,
          81857.89142857143,
          85997.15933333334,
          65913.03,
          94710.89916666667,
          99611.39333333333,
          85875.32142857143,
          117180.60888888889,
          96492.54233333333,
          85204.03333333334,
          98279.178,
          69136.514,
          88391.64460000001,
          142236.74384615384,
          100723.73902439023,
          163006.0325,
          93444.75484848485,
          89455.46857142857,
          102121.98914285714,
          59928.6825,
          97753.36846153847,
          78701.89125,
          102613.58390243903,
          77398.40428571428,
          109634.26418604652,
          69109.38,
          113822.94833333333,
          102340.284,
          111123.56368421053,
          86680.50857142858,
          98908.69783783784,
          115953.12125,
          129768.82045454545,
          113516.75375,
          112525.99833333334,
          84620.42333333334,
          95341.4064,
          107568.7025,
          106739.33615384616,
          131733.7875,
          107246.37409090908,
          115148.124,
          88676.7916,
          74870.7775,
          84588.91275862067,
          109500.595,
          92896.733125,
          116623.56999999999,
          97660.93314285715,
          102083.12333333334,
          90145.19444444444,
          74239.78666666667,
          85891.21344827586,
          107320.63166666667,
          110842.45794117649,
          121980.455,
          113353.55481481481,
          142944.27,
          99251.59128205129,
          149132.5,
          101665.22136363637,
          63929.172,
          93334.37333333334,
          79502.5,
          125940.66560000001,
          117305.40999999999,
          92951.11675675675,
          96474.61375,
          82016.82090909091,
          121383.00272727273,
          101039.355,
          94978.19375,
          84957.4215,
          118279.39749999999,
          94601.26212121212,
          70044.26,
          93907.89657142857,
          97530.001,
          81386.87794117647,
          40900.324,
          116627.82027027025,
          97017.6575,
          93732.91705882353,
          125050.79666666666,
          101078.46179487181,
          72241.91666666667,
          104876.71818181817,
          114487.39199999999,
          117440.98772727273,
          21698.32,
          112662.75724137931,
          134410.85,
          78241.08742857142,
          81468.52,
          118422.685,
          70278.20999999999,
          108179.25157894737,
          100065.41222222222,
          97392.87384615386,
          101755.43000000001,
          120421.54470588235,
          74674.398,
          90117.30866666666,
          136748.06600000002,
          93585.5384375,
          143154.6,
          118590.01166666666,
          130420.29666666668,
          84663.004,
          119228.9725,
          102242.46,
          110742.45153846152,
          89969.89444444444,
          85855.93400000001,
          102784.67230769231,
          81883.446,
          119049.95800000001,
          73655.13333333335,
          133747.2628,
          114613.00666666667,
          122381.97727272728,
          81393.95142857144,
          94673.60137931035,
          48559.19,
          80061.63764705883,
          115837.23333333334,
          94835.022,
          123346.145,
          101575.88285714286,
          92181.50833333335,
          90127.73352941177,
          101185.54000000001,
          87379.97260869565,
          93520.70375,
          117465.6355,
          135659.51142857142,
          81012.66416666667,
          99403.68571428572,
          85121.75608695652,
          88651.3925,
          74981.49142857142,
          63162.595714285715,
          113578.60714285714,
          111981.67625,
          103608.59653846153,
          141746.53,
          108850.03772727273,
          93527.54285714286,
          106375.004,
          81947.27333333333,
          114133.17461538462,
          102197.57888888888,
          105966.28041666666,
          105946.06999999999,
          92767.32,
          110856.5525,
          71150.04352941176,
          97242.61375,
          82771.37913043478,
          97822.785,
          100236.13380952382,
          113599.32,
          109992.43117647059,
          103284.21111111112,
          80968.07619047619,
          78743.12666666666,
          90743.39428571428,
          95520.83666666667,
          107430.90913043478,
          99980.51142857144,
          131220.0648,
          49125.104,
          91123.12272727273,
          111928.85800000001,
          88810.78157894737,
          103534.36642857142,
          97588.2,
          130625.269,
          86920.97,
          114277.5,
          93061.40428571429,
          73686.674375,
          77870.515,
          109485.10785714285,
          124907.18000000001,
          92609.30666666666,
          108395.9375,
          74342.7075,
          122859.63,
          100173.92941176471,
          78080.2725,
          74428.95583333333,
          74759.03666666667,
          96430.764,
          111543.0475,
          111950.228,
          83935.92199999999,
          80668.99615384615,
          98059.32833333332,
          91082.18538461538,
          108042.90000000001,
          89380.80086956521,
          98287.40666666666,
          90628.31999999999,
          113763.23,
          98559.43625000001,
          89167.0525,
          122178.55588235294,
          129525.5,
          90247.06375,
          91915.395,
          123047.62833333334,
          126910.535,
          91959.47499999999,
          100028.34999999999,
          94354.93375,
          167908.83666666667,
          106818.344,
          112767.09,
          111688.0307142857,
          105336.7475,
          111672.78,
          113660.81999999999,
          127416.77333333333,
          110621.1175,
          100083.21500000001,
          94553.450625,
          94851.45999999999,
          71529.10769230769,
          20955.03,
          83083.159,
          125872.41333333333,
          96004.25444444445,
          86613.385,
          133659.4857894737,
          86634.5075,
          114355.95555555556,
          128855.33,
          96200.75615384616,
          79437.69200000001,
          109156.77333333335,
          123858.28333333334,
          103896.20882352942,
          148494.04499999998,
          160046.00625,
          61837.27,
          102705.45230769229,
          91986.765,
          104166.04384615386,
          49418.87,
          108397.317,
          60888.44333333333,
          96876.112,
          63034.445,
          95929.25444444445,
          98640.15,
          72805.20857142858,
          122067.35333333333,
          49485.32,
          104681.7375,
          91067.17666666665,
          117407.15857142858,
          8546.87,
          66663.95,
          95192.53199999999,
          107332.91142857143,
          85028.36,
          103551.16533333334,
          83237.735,
          111086.92,
          35140.49,
          134679.92833333334,
          148044.56,
          110944.93666666666,
          114456.86,
          79912.225,
          137834.00333333333,
          114694.24666666666,
          78122.06375,
          134100.05333333334,
          144566.1890909091,
          129711.83249999999,
          62024.943333333336,
          63896.404,
          71905.77,
          93891.76999999999,
          84399.1075,
          99199.58200000001,
          192298.84,
          79547.58,
          96605.37999999999,
          75447.905,
          39154.37,
          89478.59428571428,
          126241.4,
          81933.98749999999,
          9149.96,
          136903.418,
          79815.27500000001,
          97127.544,
          87474.89,
          66225.77285714286,
          26342.33,
          145788.848,
          170256.40000000002,
          94174.524,
          121575.41777777778,
          83611.45,
          63906.86,
          125568.44666666667,
          50567.450000000004,
          120625.834,
          28144.07,
          100252.09,
          127804.66,
          97526.64857142858,
          37522.87,
          68514.90625,
          141524.64,
          98497.50888888889,
          81950.34,
          119081.58750000001,
          37141.62,
          91413.9275,
          78952.82285714286,
          150659.35,
          62674.42,
          118642.92499999999,
          92718.555,
          36687.11,
          138255.21399999998,
          134378.03999999998,
          87630.56,
          87936.77,
          39149.134999999995,
          133982.515,
          110103.18333333333,
          136830.83000000002,
          31726.76,
          108445.01333333335,
          35917.055,
          107291.3075,
          80104.615,
          130616.95800000001,
          123653.06333333334,
          170130.08000000002,
          96853.09942105264,
          91793.33837209301
         ],
         "yaxis": "y"
        }
       ],
       "layout": {
        "coloraxis": {
         "colorbar": {
          "title": {
           "text": "Exited"
          }
         },
         "colorscale": [
          [
           0,
           "#0d0887"
          ],
          [
           0.1111111111111111,
           "#46039f"
          ],
          [
           0.2222222222222222,
           "#7201a8"
          ],
          [
           0.3333333333333333,
           "#9c179e"
          ],
          [
           0.4444444444444444,
           "#bd3786"
          ],
          [
           0.5555555555555556,
           "#d8576b"
          ],
          [
           0.6666666666666666,
           "#ed7953"
          ],
          [
           0.7777777777777778,
           "#fb9f3a"
          ],
          [
           0.8888888888888888,
           "#fdca26"
          ],
          [
           1,
           "#f0f921"
          ]
         ]
        },
        "height": 600,
        "legend": {
         "tracegroupgap": 0
        },
        "template": {
         "data": {
          "bar": [
           {
            "error_x": {
             "color": "#2a3f5f"
            },
            "error_y": {
             "color": "#2a3f5f"
            },
            "marker": {
             "line": {
              "color": "#E5ECF6",
              "width": 0.5
             },
             "pattern": {
              "fillmode": "overlay",
              "size": 10,
              "solidity": 0.2
             }
            },
            "type": "bar"
           }
          ],
          "barpolar": [
           {
            "marker": {
             "line": {
              "color": "#E5ECF6",
              "width": 0.5
             },
             "pattern": {
              "fillmode": "overlay",
              "size": 10,
              "solidity": 0.2
             }
            },
            "type": "barpolar"
           }
          ],
          "carpet": [
           {
            "aaxis": {
             "endlinecolor": "#2a3f5f",
             "gridcolor": "white",
             "linecolor": "white",
             "minorgridcolor": "white",
             "startlinecolor": "#2a3f5f"
            },
            "baxis": {
             "endlinecolor": "#2a3f5f",
             "gridcolor": "white",
             "linecolor": "white",
             "minorgridcolor": "white",
             "startlinecolor": "#2a3f5f"
            },
            "type": "carpet"
           }
          ],
          "choropleth": [
           {
            "colorbar": {
             "outlinewidth": 0,
             "ticks": ""
            },
            "type": "choropleth"
           }
          ],
          "contour": [
           {
            "colorbar": {
             "outlinewidth": 0,
             "ticks": ""
            },
            "colorscale": [
             [
              0,
              "#0d0887"
             ],
             [
              0.1111111111111111,
              "#46039f"
             ],
             [
              0.2222222222222222,
              "#7201a8"
             ],
             [
              0.3333333333333333,
              "#9c179e"
             ],
             [
              0.4444444444444444,
              "#bd3786"
             ],
             [
              0.5555555555555556,
              "#d8576b"
             ],
             [
              0.6666666666666666,
              "#ed7953"
             ],
             [
              0.7777777777777778,
              "#fb9f3a"
             ],
             [
              0.8888888888888888,
              "#fdca26"
             ],
             [
              1,
              "#f0f921"
             ]
            ],
            "type": "contour"
           }
          ],
          "contourcarpet": [
           {
            "colorbar": {
             "outlinewidth": 0,
             "ticks": ""
            },
            "type": "contourcarpet"
           }
          ],
          "heatmap": [
           {
            "colorbar": {
             "outlinewidth": 0,
             "ticks": ""
            },
            "colorscale": [
             [
              0,
              "#0d0887"
             ],
             [
              0.1111111111111111,
              "#46039f"
             ],
             [
              0.2222222222222222,
              "#7201a8"
             ],
             [
              0.3333333333333333,
              "#9c179e"
             ],
             [
              0.4444444444444444,
              "#bd3786"
             ],
             [
              0.5555555555555556,
              "#d8576b"
             ],
             [
              0.6666666666666666,
              "#ed7953"
             ],
             [
              0.7777777777777778,
              "#fb9f3a"
             ],
             [
              0.8888888888888888,
              "#fdca26"
             ],
             [
              1,
              "#f0f921"
             ]
            ],
            "type": "heatmap"
           }
          ],
          "heatmapgl": [
           {
            "colorbar": {
             "outlinewidth": 0,
             "ticks": ""
            },
            "colorscale": [
             [
              0,
              "#0d0887"
             ],
             [
              0.1111111111111111,
              "#46039f"
             ],
             [
              0.2222222222222222,
              "#7201a8"
             ],
             [
              0.3333333333333333,
              "#9c179e"
             ],
             [
              0.4444444444444444,
              "#bd3786"
             ],
             [
              0.5555555555555556,
              "#d8576b"
             ],
             [
              0.6666666666666666,
              "#ed7953"
             ],
             [
              0.7777777777777778,
              "#fb9f3a"
             ],
             [
              0.8888888888888888,
              "#fdca26"
             ],
             [
              1,
              "#f0f921"
             ]
            ],
            "type": "heatmapgl"
           }
          ],
          "histogram": [
           {
            "marker": {
             "pattern": {
              "fillmode": "overlay",
              "size": 10,
              "solidity": 0.2
             }
            },
            "type": "histogram"
           }
          ],
          "histogram2d": [
           {
            "colorbar": {
             "outlinewidth": 0,
             "ticks": ""
            },
            "colorscale": [
             [
              0,
              "#0d0887"
             ],
             [
              0.1111111111111111,
              "#46039f"
             ],
             [
              0.2222222222222222,
              "#7201a8"
             ],
             [
              0.3333333333333333,
              "#9c179e"
             ],
             [
              0.4444444444444444,
              "#bd3786"
             ],
             [
              0.5555555555555556,
              "#d8576b"
             ],
             [
              0.6666666666666666,
              "#ed7953"
             ],
             [
              0.7777777777777778,
              "#fb9f3a"
             ],
             [
              0.8888888888888888,
              "#fdca26"
             ],
             [
              1,
              "#f0f921"
             ]
            ],
            "type": "histogram2d"
           }
          ],
          "histogram2dcontour": [
           {
            "colorbar": {
             "outlinewidth": 0,
             "ticks": ""
            },
            "colorscale": [
             [
              0,
              "#0d0887"
             ],
             [
              0.1111111111111111,
              "#46039f"
             ],
             [
              0.2222222222222222,
              "#7201a8"
             ],
             [
              0.3333333333333333,
              "#9c179e"
             ],
             [
              0.4444444444444444,
              "#bd3786"
             ],
             [
              0.5555555555555556,
              "#d8576b"
             ],
             [
              0.6666666666666666,
              "#ed7953"
             ],
             [
              0.7777777777777778,
              "#fb9f3a"
             ],
             [
              0.8888888888888888,
              "#fdca26"
             ],
             [
              1,
              "#f0f921"
             ]
            ],
            "type": "histogram2dcontour"
           }
          ],
          "mesh3d": [
           {
            "colorbar": {
             "outlinewidth": 0,
             "ticks": ""
            },
            "type": "mesh3d"
           }
          ],
          "parcoords": [
           {
            "line": {
             "colorbar": {
              "outlinewidth": 0,
              "ticks": ""
             }
            },
            "type": "parcoords"
           }
          ],
          "pie": [
           {
            "automargin": true,
            "type": "pie"
           }
          ],
          "scatter": [
           {
            "fillpattern": {
             "fillmode": "overlay",
             "size": 10,
             "solidity": 0.2
            },
            "type": "scatter"
           }
          ],
          "scatter3d": [
           {
            "line": {
             "colorbar": {
              "outlinewidth": 0,
              "ticks": ""
             }
            },
            "marker": {
             "colorbar": {
              "outlinewidth": 0,
              "ticks": ""
             }
            },
            "type": "scatter3d"
           }
          ],
          "scattercarpet": [
           {
            "marker": {
             "colorbar": {
              "outlinewidth": 0,
              "ticks": ""
             }
            },
            "type": "scattercarpet"
           }
          ],
          "scattergeo": [
           {
            "marker": {
             "colorbar": {
              "outlinewidth": 0,
              "ticks": ""
             }
            },
            "type": "scattergeo"
           }
          ],
          "scattergl": [
           {
            "marker": {
             "colorbar": {
              "outlinewidth": 0,
              "ticks": ""
             }
            },
            "type": "scattergl"
           }
          ],
          "scattermapbox": [
           {
            "marker": {
             "colorbar": {
              "outlinewidth": 0,
              "ticks": ""
             }
            },
            "type": "scattermapbox"
           }
          ],
          "scatterpolar": [
           {
            "marker": {
             "colorbar": {
              "outlinewidth": 0,
              "ticks": ""
             }
            },
            "type": "scatterpolar"
           }
          ],
          "scatterpolargl": [
           {
            "marker": {
             "colorbar": {
              "outlinewidth": 0,
              "ticks": ""
             }
            },
            "type": "scatterpolargl"
           }
          ],
          "scatterternary": [
           {
            "marker": {
             "colorbar": {
              "outlinewidth": 0,
              "ticks": ""
             }
            },
            "type": "scatterternary"
           }
          ],
          "surface": [
           {
            "colorbar": {
             "outlinewidth": 0,
             "ticks": ""
            },
            "colorscale": [
             [
              0,
              "#0d0887"
             ],
             [
              0.1111111111111111,
              "#46039f"
             ],
             [
              0.2222222222222222,
              "#7201a8"
             ],
             [
              0.3333333333333333,
              "#9c179e"
             ],
             [
              0.4444444444444444,
              "#bd3786"
             ],
             [
              0.5555555555555556,
              "#d8576b"
             ],
             [
              0.6666666666666666,
              "#ed7953"
             ],
             [
              0.7777777777777778,
              "#fb9f3a"
             ],
             [
              0.8888888888888888,
              "#fdca26"
             ],
             [
              1,
              "#f0f921"
             ]
            ],
            "type": "surface"
           }
          ],
          "table": [
           {
            "cells": {
             "fill": {
              "color": "#EBF0F8"
             },
             "line": {
              "color": "white"
             }
            },
            "header": {
             "fill": {
              "color": "#C8D4E3"
             },
             "line": {
              "color": "white"
             }
            },
            "type": "table"
           }
          ]
         },
         "layout": {
          "annotationdefaults": {
           "arrowcolor": "#2a3f5f",
           "arrowhead": 0,
           "arrowwidth": 1
          },
          "autotypenumbers": "strict",
          "coloraxis": {
           "colorbar": {
            "outlinewidth": 0,
            "ticks": ""
           }
          },
          "colorscale": {
           "diverging": [
            [
             0,
             "#8e0152"
            ],
            [
             0.1,
             "#c51b7d"
            ],
            [
             0.2,
             "#de77ae"
            ],
            [
             0.3,
             "#f1b6da"
            ],
            [
             0.4,
             "#fde0ef"
            ],
            [
             0.5,
             "#f7f7f7"
            ],
            [
             0.6,
             "#e6f5d0"
            ],
            [
             0.7,
             "#b8e186"
            ],
            [
             0.8,
             "#7fbc41"
            ],
            [
             0.9,
             "#4d9221"
            ],
            [
             1,
             "#276419"
            ]
           ],
           "sequential": [
            [
             0,
             "#0d0887"
            ],
            [
             0.1111111111111111,
             "#46039f"
            ],
            [
             0.2222222222222222,
             "#7201a8"
            ],
            [
             0.3333333333333333,
             "#9c179e"
            ],
            [
             0.4444444444444444,
             "#bd3786"
            ],
            [
             0.5555555555555556,
             "#d8576b"
            ],
            [
             0.6666666666666666,
             "#ed7953"
            ],
            [
             0.7777777777777778,
             "#fb9f3a"
            ],
            [
             0.8888888888888888,
             "#fdca26"
            ],
            [
             1,
             "#f0f921"
            ]
           ],
           "sequentialminus": [
            [
             0,
             "#0d0887"
            ],
            [
             0.1111111111111111,
             "#46039f"
            ],
            [
             0.2222222222222222,
             "#7201a8"
            ],
            [
             0.3333333333333333,
             "#9c179e"
            ],
            [
             0.4444444444444444,
             "#bd3786"
            ],
            [
             0.5555555555555556,
             "#d8576b"
            ],
            [
             0.6666666666666666,
             "#ed7953"
            ],
            [
             0.7777777777777778,
             "#fb9f3a"
            ],
            [
             0.8888888888888888,
             "#fdca26"
            ],
            [
             1,
             "#f0f921"
            ]
           ]
          },
          "colorway": [
           "#636efa",
           "#EF553B",
           "#00cc96",
           "#ab63fa",
           "#FFA15A",
           "#19d3f3",
           "#FF6692",
           "#B6E880",
           "#FF97FF",
           "#FECB52"
          ],
          "font": {
           "color": "#2a3f5f"
          },
          "geo": {
           "bgcolor": "white",
           "lakecolor": "white",
           "landcolor": "#E5ECF6",
           "showlakes": true,
           "showland": true,
           "subunitcolor": "white"
          },
          "hoverlabel": {
           "align": "left"
          },
          "hovermode": "closest",
          "mapbox": {
           "style": "light"
          },
          "paper_bgcolor": "white",
          "plot_bgcolor": "#E5ECF6",
          "polar": {
           "angularaxis": {
            "gridcolor": "white",
            "linecolor": "white",
            "ticks": ""
           },
           "bgcolor": "#E5ECF6",
           "radialaxis": {
            "gridcolor": "white",
            "linecolor": "white",
            "ticks": ""
           }
          },
          "scene": {
           "xaxis": {
            "backgroundcolor": "#E5ECF6",
            "gridcolor": "white",
            "gridwidth": 2,
            "linecolor": "white",
            "showbackground": true,
            "ticks": "",
            "zerolinecolor": "white"
           },
           "yaxis": {
            "backgroundcolor": "#E5ECF6",
            "gridcolor": "white",
            "gridwidth": 2,
            "linecolor": "white",
            "showbackground": true,
            "ticks": "",
            "zerolinecolor": "white"
           },
           "zaxis": {
            "backgroundcolor": "#E5ECF6",
            "gridcolor": "white",
            "gridwidth": 2,
            "linecolor": "white",
            "showbackground": true,
            "ticks": "",
            "zerolinecolor": "white"
           }
          },
          "shapedefaults": {
           "line": {
            "color": "#2a3f5f"
           }
          },
          "ternary": {
           "aaxis": {
            "gridcolor": "white",
            "linecolor": "white",
            "ticks": ""
           },
           "baxis": {
            "gridcolor": "white",
            "linecolor": "white",
            "ticks": ""
           },
           "bgcolor": "#E5ECF6",
           "caxis": {
            "gridcolor": "white",
            "linecolor": "white",
            "ticks": ""
           }
          },
          "title": {
           "x": 0.05
          },
          "xaxis": {
           "automargin": true,
           "gridcolor": "white",
           "linecolor": "white",
           "ticks": "",
           "title": {
            "standoff": 15
           },
           "zerolinecolor": "white",
           "zerolinewidth": 2
          },
          "yaxis": {
           "automargin": true,
           "gridcolor": "white",
           "linecolor": "white",
           "ticks": "",
           "title": {
            "standoff": 15
           },
           "zerolinecolor": "white",
           "zerolinewidth": 2
          }
         }
        },
        "title": {
         "text": "9.5 Взаимосвязь кредитного рейтинга клиента и его предполагаемой зарплаты"
        },
        "width": 1200,
        "xaxis": {
         "anchor": "y",
         "domain": [
          0,
          1
         ],
         "title": {
          "text": "CreditScore"
         }
        },
        "yaxis": {
         "anchor": "x",
         "domain": [
          0,
          1
         ],
         "title": {
          "text": "EstimatedSalary"
         }
        }
       }
      }
     },
     "metadata": {},
     "output_type": "display_data"
    }
   ],
   "source": [
    "ch_Est = churn_data.groupby(['CreditScore', 'Exited'], as_index=False)['EstimatedSalary'].mean()\n",
    "fig = px.scatter(data_frame=ch_Est, x = 'CreditScore', y = 'EstimatedSalary', color='Exited', width=1200, height=600, title='9.5 Взаимосвязь кредитного рейтинга клиента и его предполагаемой зарплаты')\n",
    "fig.show()\n",
    "#"
   ]
  },
  {
   "attachments": {},
   "cell_type": "markdown",
   "metadata": {},
   "source": [
    "#9.6 Кто чаще уходит, мужчины или женщины?"
   ]
  },
  {
   "cell_type": "code",
   "execution_count": 15,
   "metadata": {},
   "outputs": [
    {
     "name": "stderr",
     "output_type": "stream",
     "text": [
      "C:\\Temp\\ipykernel_8564\\1010486401.py:8: UserWarning:\n",
      "\n",
      "Matplotlib is currently using module://matplotlib_inline.backend_inline, which is a non-GUI backend, so cannot show the figure.\n",
      "\n"
     ]
    },
    {
     "data": {
      "image/png": "[encoded data removed]",
      "text/plain": [
       "<Figure size 1000x500 with 2 Axes>"
      ]
     },
     "metadata": {},
     "output_type": "display_data"
    }
   ],
   "source": [
    "df_ex= churn_data[['Gender', 'Exited']].groupby('Gender')['Exited'].value_counts(normalize=True).unstack()\n",
    "df_ex=df_ex.T\n",
    "fig,axes= plt.subplots(nrows=1, ncols=2, figsize=(10,5))\n",
    "axes[0].pie(df_ex['Female'], labels = ['Остались', 'Ушли'], autopct='%.1f%%', explode = [0.1,0]);\n",
    "axes[0].set_title('Женщины')\n",
    "axes[1].pie(df_ex['Male'], labels= ['Остались', 'Ушли'],autopct='%.1f%%', explode = [0.1,0]);\n",
    "axes[1].set_title('Мужчины')\n",
    "fig.show()\n",
    "#\n"
   ]
  },
  {
   "attachments": {},
   "cell_type": "markdown",
   "metadata": {},
   "source": [
    "#9.7 Как отток клиентов зависит от числа приобретённых у банка услуг?"
   ]
  },
  {
   "cell_type": "code",
   "execution_count": 16,
   "metadata": {},
   "outputs": [
    {
     "data": {
      "application/vnd.plotly.v1+json": {
       "config": {
        "plotlyServerURL": "https://plot.ly"
       },
       "data": [
        {
         "alignmentgroup": "True",
         "hovertemplate": "NumOfProducts=%{x}<br>index=%{y}<extra></extra>",
         "legendgroup": "",
         "marker": {
          "color": "#636efa",
          "pattern": {
           "shape": ""
          }
         },
         "name": "",
         "offsetgroup": "",
         "orientation": "h",
         "showlegend": false,
         "textposition": "auto",
         "type": "bar",
         "x": [
          1409,
          348,
          220,
          60
         ],
         "xaxis": "x",
         "y": [
          1,
          2,
          3,
          4
         ],
         "yaxis": "y"
        }
       ],
       "layout": {
        "barmode": "relative",
        "legend": {
         "tracegroupgap": 0
        },
        "template": {
         "data": {
          "bar": [
           {
            "error_x": {
             "color": "#2a3f5f"
            },
            "error_y": {
             "color": "#2a3f5f"
            },
            "marker": {
             "line": {
              "color": "#E5ECF6",
              "width": 0.5
             },
             "pattern": {
              "fillmode": "overlay",
              "size": 10,
              "solidity": 0.2
             }
            },
            "type": "bar"
           }
          ],
          "barpolar": [
           {
            "marker": {
             "line": {
              "color": "#E5ECF6",
              "width": 0.5
             },
             "pattern": {
              "fillmode": "overlay",
              "size": 10,
              "solidity": 0.2
             }
            },
            "type": "barpolar"
           }
          ],
          "carpet": [
           {
            "aaxis": {
             "endlinecolor": "#2a3f5f",
             "gridcolor": "white",
             "linecolor": "white",
             "minorgridcolor": "white",
             "startlinecolor": "#2a3f5f"
            },
            "baxis": {
             "endlinecolor": "#2a3f5f",
             "gridcolor": "white",
             "linecolor": "white",
             "minorgridcolor": "white",
             "startlinecolor": "#2a3f5f"
            },
            "type": "carpet"
           }
          ],
          "choropleth": [
           {
            "colorbar": {
             "outlinewidth": 0,
             "ticks": ""
            },
            "type": "choropleth"
           }
          ],
          "contour": [
           {
            "colorbar": {
             "outlinewidth": 0,
             "ticks": ""
            },
            "colorscale": [
             [
              0,
              "#0d0887"
             ],
             [
              0.1111111111111111,
              "#46039f"
             ],
             [
              0.2222222222222222,
              "#7201a8"
             ],
             [
              0.3333333333333333,
              "#9c179e"
             ],
             [
              0.4444444444444444,
              "#bd3786"
             ],
             [
              0.5555555555555556,
              "#d8576b"
             ],
             [
              0.6666666666666666,
              "#ed7953"
             ],
             [
              0.7777777777777778,
              "#fb9f3a"
             ],
             [
              0.8888888888888888,
              "#fdca26"
             ],
             [
              1,
              "#f0f921"
             ]
            ],
            "type": "contour"
           }
          ],
          "contourcarpet": [
           {
            "colorbar": {
             "outlinewidth": 0,
             "ticks": ""
            },
            "type": "contourcarpet"
           }
          ],
          "heatmap": [
           {
            "colorbar": {
             "outlinewidth": 0,
             "ticks": ""
            },
            "colorscale": [
             [
              0,
              "#0d0887"
             ],
             [
              0.1111111111111111,
              "#46039f"
             ],
             [
              0.2222222222222222,
              "#7201a8"
             ],
             [
              0.3333333333333333,
              "#9c179e"
             ],
             [
              0.4444444444444444,
              "#bd3786"
             ],
             [
              0.5555555555555556,
              "#d8576b"
             ],
             [
              0.6666666666666666,
              "#ed7953"
             ],
             [
              0.7777777777777778,
              "#fb9f3a"
             ],
             [
              0.8888888888888888,
              "#fdca26"
             ],
             [
              1,
              "#f0f921"
             ]
            ],
            "type": "heatmap"
           }
          ],
          "heatmapgl": [
           {
            "colorbar": {
             "outlinewidth": 0,
             "ticks": ""
            },
            "colorscale": [
             [
              0,
              "#0d0887"
             ],
             [
              0.1111111111111111,
              "#46039f"
             ],
             [
              0.2222222222222222,
              "#7201a8"
             ],
             [
              0.3333333333333333,
              "#9c179e"
             ],
             [
              0.4444444444444444,
              "#bd3786"
             ],
             [
              0.5555555555555556,
              "#d8576b"
             ],
             [
              0.6666666666666666,
              "#ed7953"
             ],
             [
              0.7777777777777778,
              "#fb9f3a"
             ],
             [
              0.8888888888888888,
              "#fdca26"
             ],
             [
              1,
              "#f0f921"
             ]
            ],
            "type": "heatmapgl"
           }
          ],
          "histogram": [
           {
            "marker": {
             "pattern": {
              "fillmode": "overlay",
              "size": 10,
              "solidity": 0.2
             }
            },
            "type": "histogram"
           }
          ],
          "histogram2d": [
           {
            "colorbar": {
             "outlinewidth": 0,
             "ticks": ""
            },
            "colorscale": [
             [
              0,
              "#0d0887"
             ],
             [
              0.1111111111111111,
              "#46039f"
             ],
             [
              0.2222222222222222,
              "#7201a8"
             ],
             [
              0.3333333333333333,
              "#9c179e"
             ],
             [
              0.4444444444444444,
              "#bd3786"
             ],
             [
              0.5555555555555556,
              "#d8576b"
             ],
             [
              0.6666666666666666,
              "#ed7953"
             ],
             [
              0.7777777777777778,
              "#fb9f3a"
             ],
             [
              0.8888888888888888,
              "#fdca26"
             ],
             [
              1,
              "#f0f921"
             ]
            ],
            "type": "histogram2d"
           }
          ],
          "histogram2dcontour": [
           {
            "colorbar": {
             "outlinewidth": 0,
             "ticks": ""
            },
            "colorscale": [
             [
              0,
              "#0d0887"
             ],
             [
              0.1111111111111111,
              "#46039f"
             ],
             [
              0.2222222222222222,
              "#7201a8"
             ],
             [
              0.3333333333333333,
              "#9c179e"
             ],
             [
              0.4444444444444444,
              "#bd3786"
             ],
             [
              0.5555555555555556,
              "#d8576b"
             ],
             [
              0.6666666666666666,
              "#ed7953"
             ],
             [
              0.7777777777777778,
              "#fb9f3a"
             ],
             [
              0.8888888888888888,
              "#fdca26"
             ],
             [
              1,
              "#f0f921"
             ]
            ],
            "type": "histogram2dcontour"
           }
          ],
          "mesh3d": [
           {
            "colorbar": {
             "outlinewidth": 0,
             "ticks": ""
            },
            "type": "mesh3d"
           }
          ],
          "parcoords": [
           {
            "line": {
             "colorbar": {
              "outlinewidth": 0,
              "ticks": ""
             }
            },
            "type": "parcoords"
           }
          ],
          "pie": [
           {
            "automargin": true,
            "type": "pie"
           }
          ],
          "scatter": [
           {
            "fillpattern": {
             "fillmode": "overlay",
             "size": 10,
             "solidity": 0.2
            },
            "type": "scatter"
           }
          ],
          "scatter3d": [
           {
            "line": {
             "colorbar": {
              "outlinewidth": 0,
              "ticks": ""
             }
            },
            "marker": {
             "colorbar": {
              "outlinewidth": 0,
              "ticks": ""
             }
            },
            "type": "scatter3d"
           }
          ],
          "scattercarpet": [
           {
            "marker": {
             "colorbar": {
              "outlinewidth": 0,
              "ticks": ""
             }
            },
            "type": "scattercarpet"
           }
          ],
          "scattergeo": [
           {
            "marker": {
             "colorbar": {
              "outlinewidth": 0,
              "ticks": ""
             }
            },
            "type": "scattergeo"
           }
          ],
          "scattergl": [
           {
            "marker": {
             "colorbar": {
              "outlinewidth": 0,
              "ticks": ""
             }
            },
            "type": "scattergl"
           }
          ],
          "scattermapbox": [
           {
            "marker": {
             "colorbar": {
              "outlinewidth": 0,
              "ticks": ""
             }
            },
            "type": "scattermapbox"
           }
          ],
          "scatterpolar": [
           {
            "marker": {
             "colorbar": {
              "outlinewidth": 0,
              "ticks": ""
             }
            },
            "type": "scatterpolar"
           }
          ],
          "scatterpolargl": [
           {
            "marker": {
             "colorbar": {
              "outlinewidth": 0,
              "ticks": ""
             }
            },
            "type": "scatterpolargl"
           }
          ],
          "scatterternary": [
           {
            "marker": {
             "colorbar": {
              "outlinewidth": 0,
              "ticks": ""
             }
            },
            "type": "scatterternary"
           }
          ],
          "surface": [
           {
            "colorbar": {
             "outlinewidth": 0,
             "ticks": ""
            },
            "colorscale": [
             [
              0,
              "#0d0887"
             ],
             [
              0.1111111111111111,
              "#46039f"
             ],
             [
              0.2222222222222222,
              "#7201a8"
             ],
             [
              0.3333333333333333,
              "#9c179e"
             ],
             [
              0.4444444444444444,
              "#bd3786"
             ],
             [
              0.5555555555555556,
              "#d8576b"
             ],
             [
              0.6666666666666666,
              "#ed7953"
             ],
             [
              0.7777777777777778,
              "#fb9f3a"
             ],
             [
              0.8888888888888888,
              "#fdca26"
             ],
             [
              1,
              "#f0f921"
             ]
            ],
            "type": "surface"
           }
          ],
          "table": [
           {
            "cells": {
             "fill": {
              "color": "#EBF0F8"
             },
             "line": {
              "color": "white"
             }
            },
            "header": {
             "fill": {
              "color": "#C8D4E3"
             },
             "line": {
              "color": "white"
             }
            },
            "type": "table"
           }
          ]
         },
         "layout": {
          "annotationdefaults": {
           "arrowcolor": "#2a3f5f",
           "arrowhead": 0,
           "arrowwidth": 1
          },
          "autotypenumbers": "strict",
          "coloraxis": {
           "colorbar": {
            "outlinewidth": 0,
            "ticks": ""
           }
          },
          "colorscale": {
           "diverging": [
            [
             0,
             "#8e0152"
            ],
            [
             0.1,
             "#c51b7d"
            ],
            [
             0.2,
             "#de77ae"
            ],
            [
             0.3,
             "#f1b6da"
            ],
            [
             0.4,
             "#fde0ef"
            ],
            [
             0.5,
             "#f7f7f7"
            ],
            [
             0.6,
             "#e6f5d0"
            ],
            [
             0.7,
             "#b8e186"
            ],
            [
             0.8,
             "#7fbc41"
            ],
            [
             0.9,
             "#4d9221"
            ],
            [
             1,
             "#276419"
            ]
           ],
           "sequential": [
            [
             0,
             "#0d0887"
            ],
            [
             0.1111111111111111,
             "#46039f"
            ],
            [
             0.2222222222222222,
             "#7201a8"
            ],
            [
             0.3333333333333333,
             "#9c179e"
            ],
            [
             0.4444444444444444,
             "#bd3786"
            ],
            [
             0.5555555555555556,
             "#d8576b"
            ],
            [
             0.6666666666666666,
             "#ed7953"
            ],
            [
             0.7777777777777778,
             "#fb9f3a"
            ],
            [
             0.8888888888888888,
             "#fdca26"
            ],
            [
             1,
             "#f0f921"
            ]
           ],
           "sequentialminus": [
            [
             0,
             "#0d0887"
            ],
            [
             0.1111111111111111,
             "#46039f"
            ],
            [
             0.2222222222222222,
             "#7201a8"
            ],
            [
             0.3333333333333333,
             "#9c179e"
            ],
            [
             0.4444444444444444,
             "#bd3786"
            ],
            [
             0.5555555555555556,
             "#d8576b"
            ],
            [
             0.6666666666666666,
             "#ed7953"
            ],
            [
             0.7777777777777778,
             "#fb9f3a"
            ],
            [
             0.8888888888888888,
             "#fdca26"
            ],
            [
             1,
             "#f0f921"
            ]
           ]
          },
          "colorway": [
           "#636efa",
           "#EF553B",
           "#00cc96",
           "#ab63fa",
           "#FFA15A",
           "#19d3f3",
           "#FF6692",
           "#B6E880",
           "#FF97FF",
           "#FECB52"
          ],
          "font": {
           "color": "#2a3f5f"
          },
          "geo": {
           "bgcolor": "white",
           "lakecolor": "white",
           "landcolor": "#E5ECF6",
           "showlakes": true,
           "showland": true,
           "subunitcolor": "white"
          },
          "hoverlabel": {
           "align": "left"
          },
          "hovermode": "closest",
          "mapbox": {
           "style": "light"
          },
          "paper_bgcolor": "white",
          "plot_bgcolor": "#E5ECF6",
          "polar": {
           "angularaxis": {
            "gridcolor": "white",
            "linecolor": "white",
            "ticks": ""
           },
           "bgcolor": "#E5ECF6",
           "radialaxis": {
            "gridcolor": "white",
            "linecolor": "white",
            "ticks": ""
           }
          },
          "scene": {
           "xaxis": {
            "backgroundcolor": "#E5ECF6",
            "gridcolor": "white",
            "gridwidth": 2,
            "linecolor": "white",
            "showbackground": true,
            "ticks": "",
            "zerolinecolor": "white"
           },
           "yaxis": {
            "backgroundcolor": "#E5ECF6",
            "gridcolor": "white",
            "gridwidth": 2,
            "linecolor": "white",
            "showbackground": true,
            "ticks": "",
            "zerolinecolor": "white"
           },
           "zaxis": {
            "backgroundcolor": "#E5ECF6",
            "gridcolor": "white",
            "gridwidth": 2,
            "linecolor": "white",
            "showbackground": true,
            "ticks": "",
            "zerolinecolor": "white"
           }
          },
          "shapedefaults": {
           "line": {
            "color": "#2a3f5f"
           }
          },
          "ternary": {
           "aaxis": {
            "gridcolor": "white",
            "linecolor": "white",
            "ticks": ""
           },
           "baxis": {
            "gridcolor": "white",
            "linecolor": "white",
            "ticks": ""
           },
           "bgcolor": "#E5ECF6",
           "caxis": {
            "gridcolor": "white",
            "linecolor": "white",
            "ticks": ""
           }
          },
          "title": {
           "x": 0.05
          },
          "xaxis": {
           "automargin": true,
           "gridcolor": "white",
           "linecolor": "white",
           "ticks": "",
           "title": {
            "standoff": 15
           },
           "zerolinecolor": "white",
           "zerolinewidth": 2
          },
          "yaxis": {
           "automargin": true,
           "gridcolor": "white",
           "linecolor": "white",
           "ticks": "",
           "title": {
            "standoff": 15
           },
           "zerolinecolor": "white",
           "zerolinewidth": 2
          }
         }
        },
        "title": {
         "text": "9.7 Отток клиентов зависит от числа приобретённых у банка услуг"
        },
        "xaxis": {
         "anchor": "y",
         "domain": [
          0,
          1
         ],
         "title": {
          "text": "количество услуг банка"
         }
        },
        "yaxis": {
         "anchor": "x",
         "domain": [
          0,
          1
         ],
         "title": {
          "text": "ушедший клиент"
         }
        }
       }
      }
     },
     "metadata": {},
     "output_type": "display_data"
    }
   ],
   "source": [
    "fig = px.bar(data_frame=churn_data[churn_data['Exited']==1]['NumOfProducts'].value_counts(), x = 'NumOfProducts',title='9.7 Отток клиентов зависит от числа приобретённых у банка услуг')\n",
    "fig.update_layout(xaxis_title='количество услуг банка', yaxis_title = 'ушедший клиент')\n",
    "fig.show()\n"
   ]
  },
  {
   "attachments": {},
   "cell_type": "markdown",
   "metadata": {},
   "source": [
    "#9.8. Как влияет наличие статуса активного клиента на отток клиентов? "
   ]
  },
  {
   "cell_type": "code",
   "execution_count": 17,
   "metadata": {},
   "outputs": [
    {
     "data": {
      "image/png": "[encoded data removed]",
      "text/plain": [
       "<Figure size 500x500 with 1 Axes>"
      ]
     },
     "metadata": {},
     "output_type": "display_data"
    }
   ],
   "source": [
    "IsActiveMember= churn_data.groupby('IsActiveMember')['Exited'].sum()*100\n",
    "fig = plt.figure(figsize=(5, 5))\n",
    "axes = fig.add_axes([0, 0, 1, 1])\n",
    "axes.pie(IsActiveMember, labels=IsActiveMember.index, autopct='%.1f%%', explode=[0.1,0]);\n",
    "\n",
    "\n",
    "\n",
    "\n",
    "\n",
    "\n",
    "\n",
    "\n"
   ]
  },
  {
   "attachments": {},
   "cell_type": "markdown",
   "metadata": {},
   "source": [
    "#9.9. В какой стране доля ушедших клиентов больше? Постройте тепловую картограмму, которая покажет это соотношение на карте мира. Предположите, с чем это может быть связано."
   ]
  },
  {
   "cell_type": "code",
   "execution_count": 60,
   "metadata": {},
   "outputs": [
    {
     "data": {
      "application/vnd.plotly.v1+json": {
       "config": {
        "plotlyServerURL": "https://plot.ly"
       },
       "data": [
        {
         "coloraxis": "coloraxis",
         "geo": "geo",
         "hovertemplate": "Geography=%{location}<br>Exited=%{z}<extra></extra>",
         "locationmode": "country names",
         "locations": [
          "France",
          "Germany",
          "Spain"
         ],
         "name": "",
         "type": "choropleth",
         "z": [
          0.16154766653370561,
          0.32443204463929853,
          0.1667339523617279
         ]
        }
       ],
       "layout": {
        "coloraxis": {
         "cmax": 0.4,
         "cmin": 0,
         "colorbar": {
          "title": {
           "text": "Exited"
          }
         },
         "colorscale": [
          [
           0,
           "#0d0887"
          ],
          [
           0.1111111111111111,
           "#46039f"
          ],
          [
           0.2222222222222222,
           "#7201a8"
          ],
          [
           0.3333333333333333,
           "#9c179e"
          ],
          [
           0.4444444444444444,
           "#bd3786"
          ],
          [
           0.5555555555555556,
           "#d8576b"
          ],
          [
           0.6666666666666666,
           "#ed7953"
          ],
          [
           0.7777777777777778,
           "#fb9f3a"
          ],
          [
           0.8888888888888888,
           "#fdca26"
          ],
          [
           1,
           "#f0f921"
          ]
         ]
        },
        "geo": {
         "center": {},
         "domain": {
          "x": [
           0,
           1
          ],
          "y": [
           0,
           1
          ]
         },
         "scope": "europe"
        },
        "height": 500,
        "legend": {
         "tracegroupgap": 0
        },
        "template": {
         "data": {
          "bar": [
           {
            "error_x": {
             "color": "#2a3f5f"
            },
            "error_y": {
             "color": "#2a3f5f"
            },
            "marker": {
             "line": {
              "color": "#E5ECF6",
              "width": 0.5
             },
             "pattern": {
              "fillmode": "overlay",
              "size": 10,
              "solidity": 0.2
             }
            },
            "type": "bar"
           }
          ],
          "barpolar": [
           {
            "marker": {
             "line": {
              "color": "#E5ECF6",
              "width": 0.5
             },
             "pattern": {
              "fillmode": "overlay",
              "size": 10,
              "solidity": 0.2
             }
            },
            "type": "barpolar"
           }
          ],
          "carpet": [
           {
            "aaxis": {
             "endlinecolor": "#2a3f5f",
             "gridcolor": "white",
             "linecolor": "white",
             "minorgridcolor": "white",
             "startlinecolor": "#2a3f5f"
            },
            "baxis": {
             "endlinecolor": "#2a3f5f",
             "gridcolor": "white",
             "linecolor": "white",
             "minorgridcolor": "white",
             "startlinecolor": "#2a3f5f"
            },
            "type": "carpet"
           }
          ],
          "choropleth": [
           {
            "colorbar": {
             "outlinewidth": 0,
             "ticks": ""
            },
            "type": "choropleth"
           }
          ],
          "contour": [
           {
            "colorbar": {
             "outlinewidth": 0,
             "ticks": ""
            },
            "colorscale": [
             [
              0,
              "#0d0887"
             ],
             [
              0.1111111111111111,
              "#46039f"
             ],
             [
              0.2222222222222222,
              "#7201a8"
             ],
             [
              0.3333333333333333,
              "#9c179e"
             ],
             [
              0.4444444444444444,
              "#bd3786"
             ],
             [
              0.5555555555555556,
              "#d8576b"
             ],
             [
              0.6666666666666666,
              "#ed7953"
             ],
             [
              0.7777777777777778,
              "#fb9f3a"
             ],
             [
              0.8888888888888888,
              "#fdca26"
             ],
             [
              1,
              "#f0f921"
             ]
            ],
            "type": "contour"
           }
          ],
          "contourcarpet": [
           {
            "colorbar": {
             "outlinewidth": 0,
             "ticks": ""
            },
            "type": "contourcarpet"
           }
          ],
          "heatmap": [
           {
            "colorbar": {
             "outlinewidth": 0,
             "ticks": ""
            },
            "colorscale": [
             [
              0,
              "#0d0887"
             ],
             [
              0.1111111111111111,
              "#46039f"
             ],
             [
              0.2222222222222222,
              "#7201a8"
             ],
             [
              0.3333333333333333,
              "#9c179e"
             ],
             [
              0.4444444444444444,
              "#bd3786"
             ],
             [
              0.5555555555555556,
              "#d8576b"
             ],
             [
              0.6666666666666666,
              "#ed7953"
             ],
             [
              0.7777777777777778,
              "#fb9f3a"
             ],
             [
              0.8888888888888888,
              "#fdca26"
             ],
             [
              1,
              "#f0f921"
             ]
            ],
            "type": "heatmap"
           }
          ],
          "heatmapgl": [
           {
            "colorbar": {
             "outlinewidth": 0,
             "ticks": ""
            },
            "colorscale": [
             [
              0,
              "#0d0887"
             ],
             [
              0.1111111111111111,
              "#46039f"
             ],
             [
              0.2222222222222222,
              "#7201a8"
             ],
             [
              0.3333333333333333,
              "#9c179e"
             ],
             [
              0.4444444444444444,
              "#bd3786"
             ],
             [
              0.5555555555555556,
              "#d8576b"
             ],
             [
              0.6666666666666666,
              "#ed7953"
             ],
             [
              0.7777777777777778,
              "#fb9f3a"
             ],
             [
              0.8888888888888888,
              "#fdca26"
             ],
             [
              1,
              "#f0f921"
             ]
            ],
            "type": "heatmapgl"
           }
          ],
          "histogram": [
           {
            "marker": {
             "pattern": {
              "fillmode": "overlay",
              "size": 10,
              "solidity": 0.2
             }
            },
            "type": "histogram"
           }
          ],
          "histogram2d": [
           {
            "colorbar": {
             "outlinewidth": 0,
             "ticks": ""
            },
            "colorscale": [
             [
              0,
              "#0d0887"
             ],
             [
              0.1111111111111111,
              "#46039f"
             ],
             [
              0.2222222222222222,
              "#7201a8"
             ],
             [
              0.3333333333333333,
              "#9c179e"
             ],
             [
              0.4444444444444444,
              "#bd3786"
             ],
             [
              0.5555555555555556,
              "#d8576b"
             ],
             [
              0.6666666666666666,
              "#ed7953"
             ],
             [
              0.7777777777777778,
              "#fb9f3a"
             ],
             [
              0.8888888888888888,
              "#fdca26"
             ],
             [
              1,
              "#f0f921"
             ]
            ],
            "type": "histogram2d"
           }
          ],
          "histogram2dcontour": [
           {
            "colorbar": {
             "outlinewidth": 0,
             "ticks": ""
            },
            "colorscale": [
             [
              0,
              "#0d0887"
             ],
             [
              0.1111111111111111,
              "#46039f"
             ],
             [
              0.2222222222222222,
              "#7201a8"
             ],
             [
              0.3333333333333333,
              "#9c179e"
             ],
             [
              0.4444444444444444,
              "#bd3786"
             ],
             [
              0.5555555555555556,
              "#d8576b"
             ],
             [
              0.6666666666666666,
              "#ed7953"
             ],
             [
              0.7777777777777778,
              "#fb9f3a"
             ],
             [
              0.8888888888888888,
              "#fdca26"
             ],
             [
              1,
              "#f0f921"
             ]
            ],
            "type": "histogram2dcontour"
           }
          ],
          "mesh3d": [
           {
            "colorbar": {
             "outlinewidth": 0,
             "ticks": ""
            },
            "type": "mesh3d"
           }
          ],
          "parcoords": [
           {
            "line": {
             "colorbar": {
              "outlinewidth": 0,
              "ticks": ""
             }
            },
            "type": "parcoords"
           }
          ],
          "pie": [
           {
            "automargin": true,
            "type": "pie"
           }
          ],
          "scatter": [
           {
            "fillpattern": {
             "fillmode": "overlay",
             "size": 10,
             "solidity": 0.2
            },
            "type": "scatter"
           }
          ],
          "scatter3d": [
           {
            "line": {
             "colorbar": {
              "outlinewidth": 0,
              "ticks": ""
             }
            },
            "marker": {
             "colorbar": {
              "outlinewidth": 0,
              "ticks": ""
             }
            },
            "type": "scatter3d"
           }
          ],
          "scattercarpet": [
           {
            "marker": {
             "colorbar": {
              "outlinewidth": 0,
              "ticks": ""
             }
            },
            "type": "scattercarpet"
           }
          ],
          "scattergeo": [
           {
            "marker": {
             "colorbar": {
              "outlinewidth": 0,
              "ticks": ""
             }
            },
            "type": "scattergeo"
           }
          ],
          "scattergl": [
           {
            "marker": {
             "colorbar": {
              "outlinewidth": 0,
              "ticks": ""
             }
            },
            "type": "scattergl"
           }
          ],
          "scattermapbox": [
           {
            "marker": {
             "colorbar": {
              "outlinewidth": 0,
              "ticks": ""
             }
            },
            "type": "scattermapbox"
           }
          ],
          "scatterpolar": [
           {
            "marker": {
             "colorbar": {
              "outlinewidth": 0,
              "ticks": ""
             }
            },
            "type": "scatterpolar"
           }
          ],
          "scatterpolargl": [
           {
            "marker": {
             "colorbar": {
              "outlinewidth": 0,
              "ticks": ""
             }
            },
            "type": "scatterpolargl"
           }
          ],
          "scatterternary": [
           {
            "marker": {
             "colorbar": {
              "outlinewidth": 0,
              "ticks": ""
             }
            },
            "type": "scatterternary"
           }
          ],
          "surface": [
           {
            "colorbar": {
             "outlinewidth": 0,
             "ticks": ""
            },
            "colorscale": [
             [
              0,
              "#0d0887"
             ],
             [
              0.1111111111111111,
              "#46039f"
             ],
             [
              0.2222222222222222,
              "#7201a8"
             ],
             [
              0.3333333333333333,
              "#9c179e"
             ],
             [
              0.4444444444444444,
              "#bd3786"
             ],
             [
              0.5555555555555556,
              "#d8576b"
             ],
             [
              0.6666666666666666,
              "#ed7953"
             ],
             [
              0.7777777777777778,
              "#fb9f3a"
             ],
             [
              0.8888888888888888,
              "#fdca26"
             ],
             [
              1,
              "#f0f921"
             ]
            ],
            "type": "surface"
           }
          ],
          "table": [
           {
            "cells": {
             "fill": {
              "color": "#EBF0F8"
             },
             "line": {
              "color": "white"
             }
            },
            "header": {
             "fill": {
              "color": "#C8D4E3"
             },
             "line": {
              "color": "white"
             }
            },
            "type": "table"
           }
          ]
         },
         "layout": {
          "annotationdefaults": {
           "arrowcolor": "#2a3f5f",
           "arrowhead": 0,
           "arrowwidth": 1
          },
          "autotypenumbers": "strict",
          "coloraxis": {
           "colorbar": {
            "outlinewidth": 0,
            "ticks": ""
           }
          },
          "colorscale": {
           "diverging": [
            [
             0,
             "#8e0152"
            ],
            [
             0.1,
             "#c51b7d"
            ],
            [
             0.2,
             "#de77ae"
            ],
            [
             0.3,
             "#f1b6da"
            ],
            [
             0.4,
             "#fde0ef"
            ],
            [
             0.5,
             "#f7f7f7"
            ],
            [
             0.6,
             "#e6f5d0"
            ],
            [
             0.7,
             "#b8e186"
            ],
            [
             0.8,
             "#7fbc41"
            ],
            [
             0.9,
             "#4d9221"
            ],
            [
             1,
             "#276419"
            ]
           ],
           "sequential": [
            [
             0,
             "#0d0887"
            ],
            [
             0.1111111111111111,
             "#46039f"
            ],
            [
             0.2222222222222222,
             "#7201a8"
            ],
            [
             0.3333333333333333,
             "#9c179e"
            ],
            [
             0.4444444444444444,
             "#bd3786"
            ],
            [
             0.5555555555555556,
             "#d8576b"
            ],
            [
             0.6666666666666666,
             "#ed7953"
            ],
            [
             0.7777777777777778,
             "#fb9f3a"
            ],
            [
             0.8888888888888888,
             "#fdca26"
            ],
            [
             1,
             "#f0f921"
            ]
           ],
           "sequentialminus": [
            [
             0,
             "#0d0887"
            ],
            [
             0.1111111111111111,
             "#46039f"
            ],
            [
             0.2222222222222222,
             "#7201a8"
            ],
            [
             0.3333333333333333,
             "#9c179e"
            ],
            [
             0.4444444444444444,
             "#bd3786"
            ],
            [
             0.5555555555555556,
             "#d8576b"
            ],
            [
             0.6666666666666666,
             "#ed7953"
            ],
            [
             0.7777777777777778,
             "#fb9f3a"
            ],
            [
             0.8888888888888888,
             "#fdca26"
            ],
            [
             1,
             "#f0f921"
            ]
           ]
          },
          "colorway": [
           "#636efa",
           "#EF553B",
           "#00cc96",
           "#ab63fa",
           "#FFA15A",
           "#19d3f3",
           "#FF6692",
           "#B6E880",
           "#FF97FF",
           "#FECB52"
          ],
          "font": {
           "color": "#2a3f5f"
          },
          "geo": {
           "bgcolor": "white",
           "lakecolor": "white",
           "landcolor": "#E5ECF6",
           "showlakes": true,
           "showland": true,
           "subunitcolor": "white"
          },
          "hoverlabel": {
           "align": "left"
          },
          "hovermode": "closest",
          "mapbox": {
           "style": "light"
          },
          "paper_bgcolor": "white",
          "plot_bgcolor": "#E5ECF6",
          "polar": {
           "angularaxis": {
            "gridcolor": "white",
            "linecolor": "white",
            "ticks": ""
           },
           "bgcolor": "#E5ECF6",
           "radialaxis": {
            "gridcolor": "white",
            "linecolor": "white",
            "ticks": ""
           }
          },
          "scene": {
           "xaxis": {
            "backgroundcolor": "#E5ECF6",
            "gridcolor": "white",
            "gridwidth": 2,
            "linecolor": "white",
            "showbackground": true,
            "ticks": "",
            "zerolinecolor": "white"
           },
           "yaxis": {
            "backgroundcolor": "#E5ECF6",
            "gridcolor": "white",
            "gridwidth": 2,
            "linecolor": "white",
            "showbackground": true,
            "ticks": "",
            "zerolinecolor": "white"
           },
           "zaxis": {
            "backgroundcolor": "#E5ECF6",
            "gridcolor": "white",
            "gridwidth": 2,
            "linecolor": "white",
            "showbackground": true,
            "ticks": "",
            "zerolinecolor": "white"
           }
          },
          "shapedefaults": {
           "line": {
            "color": "#2a3f5f"
           }
          },
          "ternary": {
           "aaxis": {
            "gridcolor": "white",
            "linecolor": "white",
            "ticks": ""
           },
           "baxis": {
            "gridcolor": "white",
            "linecolor": "white",
            "ticks": ""
           },
           "bgcolor": "#E5ECF6",
           "caxis": {
            "gridcolor": "white",
            "linecolor": "white",
            "ticks": ""
           }
          },
          "title": {
           "x": 0.05
          },
          "xaxis": {
           "automargin": true,
           "gridcolor": "white",
           "linecolor": "white",
           "ticks": "",
           "title": {
            "standoff": 15
           },
           "zerolinecolor": "white",
           "zerolinewidth": 2
          },
          "yaxis": {
           "automargin": true,
           "gridcolor": "white",
           "linecolor": "white",
           "ticks": "",
           "title": {
            "standoff": 15
           },
           "zerolinecolor": "white",
           "zerolinewidth": 2
          }
         }
        },
        "title": {
         "text": "Доля ушедших клиентов по странам"
        },
        "width": 800
       }
      }
     },
     "metadata": {},
     "output_type": "display_data"
    }
   ],
   "source": [
    "#import plotly.express as px\n",
    "new_data = churn_data.groupby('Geography', as_index=False)['Exited'].mean()\n",
    "fig= px.choropleth(data_frame=new_data,locations = 'Geography', locationmode = 'country names', range_color = [0, 0.4], color = 'Exited',title='Доля ушедших клиентов по странам', scope = 'europe', width=800, height=500)\n",
    "fig.show()\n"
   ]
  },
  {
   "attachments": {},
   "cell_type": "markdown",
   "metadata": {},
   "source": [
    "#9.10. Переведите числовой признак CreditScore в категориальный. Для этого воспользуйтесь функцией get_credit_score_cat(), которая приведена ниже. Примените её к столбцу CreditScore и создайте новый признак CreditScoreCat — категории кредитного рейтинга."
   ]
  },
  {
   "cell_type": "code",
   "execution_count": null,
   "metadata": {},
   "outputs": [],
   "source": []
  }
 ],
 "metadata": {
  "kernelspec": {
   "display_name": "Python 3",
   "language": "python",
   "name": "python3"
  },
  "language_info": {
   "codemirror_mode": {
    "name": "ipython",
    "version": 3
   },
   "file_extension": ".py",
   "mimetype": "text/x-python",
   "name": "python",
   "nbconvert_exporter": "python",
   "pygments_lexer": "ipython3",
   "version": "3.11.1 (tags/v3.11.1:a7a450f, Dec  6 2022, 19:58:39) [MSC v.1934 64 bit (AMD64)]"
  },
  "orig_nbformat": 4,
  "vscode": {
   "interpreter": {
    "hash": "ebfc0a8d552866b0d59eba665220a57de3bc06f3ac643b8bef38dd8f66781fdd"
   }
  }
 },
 "nbformat": 4,
 "nbformat_minor": 2
}
